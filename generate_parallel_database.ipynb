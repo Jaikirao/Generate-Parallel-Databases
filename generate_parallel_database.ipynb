{
  "nbformat": 4,
  "nbformat_minor": 0,
  "metadata": {
    "colab": {
      "name": "Welcome To Colaboratory",
      "version": "0.3.2",
      "provenance": [],
      "collapsed_sections": [],
      "toc_visible": true,
      "include_colab_link": true
    },
    "kernelspec": {
      "display_name": "Python 3",
      "name": "python3"
    }
  },
  "cells": [
    {
      "cell_type": "markdown",
      "metadata": {
        "id": "view-in-github",
        "colab_type": "text"
      },
      "source": [
        "<a href=\"https://colab.research.google.com/github/Jaikirao/Generate-Parallel-Databases/blob/master/generate_parallel_database.ipynb\" target=\"_parent\"><img src=\"https://colab.research.google.com/assets/colab-badge.svg\" alt=\"Open In Colab\"/></a>"
      ]
    },
    {
      "cell_type": "code",
      "metadata": {
        "id": "ye0jl1b3303b",
        "colab_type": "code",
        "outputId": "89a2cbaf-3cc7-4b23-fff5-ec5e1a13145e",
        "colab": {
          "base_uri": "https://localhost:8080/",
          "height": 51
        }
      },
      "source": [
        "import torch\n",
        "\n",
        "# the number of entries in our database\n",
        "num_entries = 20\n",
        "\n",
        "db = torch.rand(num_entries) > 0.5\n",
        "db"
      ],
      "execution_count": 7,
      "outputs": [
        {
          "output_type": "execute_result",
          "data": {
            "text/plain": [
              "tensor([0, 0, 1, 0, 0, 1, 0, 0, 1, 1, 1, 1, 1, 0, 0, 0, 0, 1, 0, 1],\n",
              "       dtype=torch.uint8)"
            ]
          },
          "metadata": {
            "tags": []
          },
          "execution_count": 7
        }
      ]
    },
    {
      "cell_type": "code",
      "metadata": {
        "id": "-hY1A6Mq5PIV",
        "colab_type": "code",
        "colab": {}
      },
      "source": [
        "def get_parallel_db(db , remove_index):\n",
        "  return torch.cat((db[0:remove_index],\n",
        "                    db[remove_index+1:]))"
      ],
      "execution_count": 0,
      "outputs": []
    },
    {
      "cell_type": "code",
      "metadata": {
        "id": "rvn7Yoto5QY-",
        "colab_type": "code",
        "outputId": "1b1c1449-5467-4319-b533-cd9a82d5bbc6",
        "colab": {
          "base_uri": "https://localhost:8080/",
          "height": 51
        }
      },
      "source": [
        "get_parallel_db(db,2)"
      ],
      "execution_count": 9,
      "outputs": [
        {
          "output_type": "execute_result",
          "data": {
            "text/plain": [
              "tensor([0, 0, 0, 0, 1, 0, 0, 1, 1, 1, 1, 1, 0, 0, 0, 0, 1, 0, 1],\n",
              "       dtype=torch.uint8)"
            ]
          },
          "metadata": {
            "tags": []
          },
          "execution_count": 9
        }
      ]
    },
    {
      "cell_type": "code",
      "metadata": {
        "id": "MjuEwo1h5QTR",
        "colab_type": "code",
        "colab": {}
      },
      "source": [
        "def get_parallel_dbs(db):\n",
        "  parallel_dbs=list()\n",
        "  for i in range(len(db)):\n",
        "    pdb=get_parallel_db(db,i)\n",
        "    parallel_dbs.append(pdb)\n",
        "    \n",
        "  return parallel_dbs\n"
      ],
      "execution_count": 0,
      "outputs": []
    },
    {
      "cell_type": "code",
      "metadata": {
        "id": "50RsXnnQ5QNd",
        "colab_type": "code",
        "outputId": "6b22b316-b371-4b9f-f33b-e5be75f4aafb",
        "colab": {
          "base_uri": "https://localhost:8080/",
          "height": 697
        }
      },
      "source": [
        "get_parallel_dbs(db)"
      ],
      "execution_count": 11,
      "outputs": [
        {
          "output_type": "execute_result",
          "data": {
            "text/plain": [
              "[tensor([0, 1, 0, 0, 1, 0, 0, 1, 1, 1, 1, 1, 0, 0, 0, 0, 1, 0, 1],\n",
              "        dtype=torch.uint8),\n",
              " tensor([0, 1, 0, 0, 1, 0, 0, 1, 1, 1, 1, 1, 0, 0, 0, 0, 1, 0, 1],\n",
              "        dtype=torch.uint8),\n",
              " tensor([0, 0, 0, 0, 1, 0, 0, 1, 1, 1, 1, 1, 0, 0, 0, 0, 1, 0, 1],\n",
              "        dtype=torch.uint8),\n",
              " tensor([0, 0, 1, 0, 1, 0, 0, 1, 1, 1, 1, 1, 0, 0, 0, 0, 1, 0, 1],\n",
              "        dtype=torch.uint8),\n",
              " tensor([0, 0, 1, 0, 1, 0, 0, 1, 1, 1, 1, 1, 0, 0, 0, 0, 1, 0, 1],\n",
              "        dtype=torch.uint8),\n",
              " tensor([0, 0, 1, 0, 0, 0, 0, 1, 1, 1, 1, 1, 0, 0, 0, 0, 1, 0, 1],\n",
              "        dtype=torch.uint8),\n",
              " tensor([0, 0, 1, 0, 0, 1, 0, 1, 1, 1, 1, 1, 0, 0, 0, 0, 1, 0, 1],\n",
              "        dtype=torch.uint8),\n",
              " tensor([0, 0, 1, 0, 0, 1, 0, 1, 1, 1, 1, 1, 0, 0, 0, 0, 1, 0, 1],\n",
              "        dtype=torch.uint8),\n",
              " tensor([0, 0, 1, 0, 0, 1, 0, 0, 1, 1, 1, 1, 0, 0, 0, 0, 1, 0, 1],\n",
              "        dtype=torch.uint8),\n",
              " tensor([0, 0, 1, 0, 0, 1, 0, 0, 1, 1, 1, 1, 0, 0, 0, 0, 1, 0, 1],\n",
              "        dtype=torch.uint8),\n",
              " tensor([0, 0, 1, 0, 0, 1, 0, 0, 1, 1, 1, 1, 0, 0, 0, 0, 1, 0, 1],\n",
              "        dtype=torch.uint8),\n",
              " tensor([0, 0, 1, 0, 0, 1, 0, 0, 1, 1, 1, 1, 0, 0, 0, 0, 1, 0, 1],\n",
              "        dtype=torch.uint8),\n",
              " tensor([0, 0, 1, 0, 0, 1, 0, 0, 1, 1, 1, 1, 0, 0, 0, 0, 1, 0, 1],\n",
              "        dtype=torch.uint8),\n",
              " tensor([0, 0, 1, 0, 0, 1, 0, 0, 1, 1, 1, 1, 1, 0, 0, 0, 1, 0, 1],\n",
              "        dtype=torch.uint8),\n",
              " tensor([0, 0, 1, 0, 0, 1, 0, 0, 1, 1, 1, 1, 1, 0, 0, 0, 1, 0, 1],\n",
              "        dtype=torch.uint8),\n",
              " tensor([0, 0, 1, 0, 0, 1, 0, 0, 1, 1, 1, 1, 1, 0, 0, 0, 1, 0, 1],\n",
              "        dtype=torch.uint8),\n",
              " tensor([0, 0, 1, 0, 0, 1, 0, 0, 1, 1, 1, 1, 1, 0, 0, 0, 1, 0, 1],\n",
              "        dtype=torch.uint8),\n",
              " tensor([0, 0, 1, 0, 0, 1, 0, 0, 1, 1, 1, 1, 1, 0, 0, 0, 0, 0, 1],\n",
              "        dtype=torch.uint8),\n",
              " tensor([0, 0, 1, 0, 0, 1, 0, 0, 1, 1, 1, 1, 1, 0, 0, 0, 0, 1, 1],\n",
              "        dtype=torch.uint8),\n",
              " tensor([0, 0, 1, 0, 0, 1, 0, 0, 1, 1, 1, 1, 1, 0, 0, 0, 0, 1, 0],\n",
              "        dtype=torch.uint8)]"
            ]
          },
          "metadata": {
            "tags": []
          },
          "execution_count": 11
        }
      ]
    },
    {
      "cell_type": "code",
      "metadata": {
        "id": "oIpoEnNb5P0D",
        "colab_type": "code",
        "colab": {}
      },
      "source": [
        "def create_db_and_parallel(num_enteries):\n",
        "  db=torch.rand(num_enteries)>0.5\n",
        "  pdbs= get_parallel_dbs(db)\n",
        "  \n",
        "  return db,pdbs"
      ],
      "execution_count": 0,
      "outputs": []
    },
    {
      "cell_type": "code",
      "metadata": {
        "id": "msMq-_i05PCR",
        "colab_type": "code",
        "colab": {}
      },
      "source": [
        "db,pdbs =create_db_and_parallel(10)"
      ],
      "execution_count": 0,
      "outputs": []
    },
    {
      "cell_type": "code",
      "metadata": {
        "id": "yWAz7nBR6IPp",
        "colab_type": "code",
        "outputId": "9c731c94-caa0-4aef-b8fe-b73795f864b6",
        "colab": {
          "base_uri": "https://localhost:8080/",
          "height": 34
        }
      },
      "source": [
        "db"
      ],
      "execution_count": 14,
      "outputs": [
        {
          "output_type": "execute_result",
          "data": {
            "text/plain": [
              "tensor([0, 1, 1, 0, 1, 0, 0, 0, 0, 0], dtype=torch.uint8)"
            ]
          },
          "metadata": {
            "tags": []
          },
          "execution_count": 14
        }
      ]
    },
    {
      "cell_type": "code",
      "metadata": {
        "id": "yTNTJFmC6IID",
        "colab_type": "code",
        "outputId": "14d22b24-77e5-4084-96ce-5f23d36cc43e",
        "colab": {
          "base_uri": "https://localhost:8080/",
          "height": 187
        }
      },
      "source": [
        "pdbs"
      ],
      "execution_count": 15,
      "outputs": [
        {
          "output_type": "execute_result",
          "data": {
            "text/plain": [
              "[tensor([1, 1, 0, 1, 0, 0, 0, 0, 0], dtype=torch.uint8),\n",
              " tensor([0, 1, 0, 1, 0, 0, 0, 0, 0], dtype=torch.uint8),\n",
              " tensor([0, 1, 0, 1, 0, 0, 0, 0, 0], dtype=torch.uint8),\n",
              " tensor([0, 1, 1, 1, 0, 0, 0, 0, 0], dtype=torch.uint8),\n",
              " tensor([0, 1, 1, 0, 0, 0, 0, 0, 0], dtype=torch.uint8),\n",
              " tensor([0, 1, 1, 0, 1, 0, 0, 0, 0], dtype=torch.uint8),\n",
              " tensor([0, 1, 1, 0, 1, 0, 0, 0, 0], dtype=torch.uint8),\n",
              " tensor([0, 1, 1, 0, 1, 0, 0, 0, 0], dtype=torch.uint8),\n",
              " tensor([0, 1, 1, 0, 1, 0, 0, 0, 0], dtype=torch.uint8),\n",
              " tensor([0, 1, 1, 0, 1, 0, 0, 0, 0], dtype=torch.uint8)]"
            ]
          },
          "metadata": {
            "tags": []
          },
          "execution_count": 15
        }
      ]
    },
    {
      "cell_type": "code",
      "metadata": {
        "id": "stg_CM456bsz",
        "colab_type": "code",
        "colab": {}
      },
      "source": [
        ""
      ],
      "execution_count": 0,
      "outputs": []
    }
  ]
}